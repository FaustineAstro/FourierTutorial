{
 "cells": [
  {
   "cell_type": "code",
   "execution_count": null,
   "metadata": {},
   "outputs": [],
   "source": [
    "import numpy as np\n",
    "import scipy.stats as stats\n",
    "from scipy import signal\n",
    "import matplotlib.pyplot as plt\n",
    "from matplotlib.colors import LogNorm\n",
    "import matplotlib.gridspec as gridspec \n",
    "from mpl_toolkits.axes_grid1 import make_axes_locatable"
   ]
  },
  {
   "cell_type": "markdown",
   "metadata": {},
   "source": [
    "# 1. One dimension FFT: basics"
   ]
  },
  {
   "cell_type": "markdown",
   "metadata": {},
   "source": [
    "### 1.1 Simple sine and cosine waves"
   ]
  },
  {
   "cell_type": "code",
   "execution_count": null,
   "metadata": {
    "scrolled": false
   },
   "outputs": [],
   "source": [
    "plt.figure(figsize=(6*3, 2*3), constrained_layout=False)\n",
    "\n",
    "# Points Real space (Npoint = 126)\n",
    "x = np.arange(-np.pi, np.pi, 0.05)\n",
    "# Points Fourier space\n",
    "x_f = np.arange(0, np.shape(x)[0], 1) - np.shape(x)[0]/2\n",
    "\n",
    "# Creating the cos and sin waves: \n",
    "# Amplitude 1, Phase 0, Periode 3\n",
    "T = 3\n",
    "cosT = np.cos(x*T) \n",
    "sinT = np.sin(x*T)\n",
    "plt.subplot(131)\n",
    "plt.plot(x, cosT, label=\"cos(x)\")\n",
    "plt.plot(x, sinT, label=\"sin(x)\")\n",
    "plt.title('Signal: Sine waves')\n",
    "plt.legend()\n",
    "plt.axhline(y=0, color='k', ls = '--', lw=0.8, alpha=0.6)\n",
    "plt.axvline(x=0, color='k', ls = '--', lw=0.8, alpha=0.6)\n",
    "\n",
    "# Fourier transform of the cos and sin waves: \n",
    "TF_cosT =np.fft.fftshift(np.fft.fft(cosT))\n",
    "TF_sinT =np.fft.fftshift(np.fft.fft(sinT))\n",
    "\n",
    "# Plot Amplitude (normalized)\n",
    "plt.subplot(132)\n",
    "plt.plot(x_f,np.real(TF_cosT)/(np.shape(x)[0]/2), label=\"Re{TF[cos(x)]}\")\n",
    "plt.plot(x_f,np.real(TF_sinT)/(np.shape(x)[0]/2), label=\"Re{TF[sin(x)]}\", alpha = 0.5)\n",
    "plt.axvline(x=T, color='r', ls = '--', lw=0.5, alpha=0.9, label = \"Period of the signals\")\n",
    "plt.title('Fourier transform: real part')\n",
    "plt.legend()\n",
    "plt.axhline(y=0, color='k', ls = '--', lw=0.8, alpha=0.6)\n",
    "plt.axvline(x=0, color='k', ls = '--', lw=0.8, alpha=0.6)\n",
    "\n",
    "# Plot Phase\n",
    "plt.subplot(133) \n",
    "plt.plot(x_f,np.imag(TF_cosT)/(np.shape(x)[0]/2)*np.pi, label=\"Im{TF[cos(x)]}\")\n",
    "plt.plot(x_f,np.imag(TF_sinT)/(np.shape(x)[0]/2)*np.pi, label=\"Im{TF[sin(x)]}\")\n",
    "plt.axvline(x=T, color='r', ls = '--', lw=0.5, alpha=0.9, label = \"Period of the signals\")\n",
    "plt.title('Fourier transform: imaginary part')\n",
    "plt.legend()\n",
    "plt.axhline(y=0, color='k', ls = '--', lw=0.8, alpha=0.6)\n",
    "plt.axvline(x=0, color='k', ls = '--', lw=0.8, alpha=0.6)\n",
    "plt.axhline(y=np.pi, color='k', ls = '--', lw=0.5, alpha=0.9)\n",
    "plt.axhline(y=-np.pi, color='k', ls = '--', lw=0.5, alpha=0.9)\n",
    "\n",
    "plt.show()\n"
   ]
  },
  {
   "cell_type": "markdown",
   "metadata": {},
   "source": [
    "**Reminder on complex numbers and numpy syntax:**\n",
    "\n",
    "If $z$ is a complex number written $z = x + iy$ (with $i^2 = -1$) \n",
    "\n",
    "Then np.real(z) = Re{z} = x and np.imag(z) = Im{z} = y\n",
    "\n",
    "It can also be written $z = |z| e^{i\\theta} = |z| cos(\\theta) + i |z| sin (\\theta) $,\n",
    "\n",
    "so that $ x = |z| cos(\\theta)$ and $ y = |z| sin(\\theta)$,\n",
    "\n",
    "and the relations np.abs(z) $ = |z| = \\sqrt{(x^2+y^2)} $ and  np.angle(z) $=\\theta = tan^{-1}(y/x)$\n",
    "\n",
    "*** \n",
    "So in our last two cases, |z| = 1, and taking np.abs(s) would render two peaks of height 1. The middle plot shows instead the real part so that the peak heigt is multiplied by $cos(\\theta)$ which is either 1 (blue case, cosine wave) or 0 (orange case, sine wave).\n",
    "\n",
    "And $\\theta $ is going from $0$ to $2\\pi$, and taking np.angle(s) would render non-sense. Instead taking np.imag(s) tells us about the phase shift from a cosine wave reference, see below.\n"
   ]
  },
  {
   "cell_type": "markdown",
   "metadata": {},
   "source": [
    "### 1.2 Changing the phase, amplitude and period"
   ]
  },
  {
   "cell_type": "code",
   "execution_count": null,
   "metadata": {},
   "outputs": [],
   "source": [
    "plt.figure(figsize=(6*3, 2*3), constrained_layout=False)\n",
    "\n",
    "#Parameters for the sine waves\n",
    "A = 1.  #Amplitude >0.\n",
    "T  = 3. #Period [1-np.shape(x)]\n",
    "Ph = 0.5  #Phase [-pi:pi] i.e. facteur [-1,1]\n",
    "print('Amplitude = ',A)\n",
    "print('Period = ',T)\n",
    "print('Phase shift = ', Ph)\n",
    "\n",
    "#Creating the cosine wave: \n",
    "#at a given phase, amplitude and period\n",
    "cosT = np.cos(x*3) \n",
    "cosP = A*np.cos(x*T+Ph*np.pi) \n",
    "plt.subplot(131)\n",
    "plt.plot(x, cosT, label=\"cos(x)\")\n",
    "plt.plot(x, cosP, color='g', label=\"cos(x*T+ph)\")\n",
    "plt.title('Signal: Cosine waves')\n",
    "plt.legend()\n",
    "plt.axhline(y=0, color='k', ls = '--', lw=0.8, alpha=0.6)\n",
    "plt.axvline(x=0, color='k', ls = '--', lw=0.8, alpha=0.6)\n",
    "\n",
    "# Fourier transform of the cos waves: \n",
    "TF_cosT =np.fft.fftshift(np.fft.fft(cosT))\n",
    "TF_cosP =np.fft.fftshift(np.fft.fft(cosP))\n",
    "\n",
    "# Plot Amplitude (normalized)\n",
    "plt.subplot(132)\n",
    "plt.plot(x_f,np.real(TF_cosT)/(np.shape(x)[0]/2), label=\"Re{TF[cos(x)]}\")\n",
    "plt.plot(x_f,np.real(TF_cosP)/(np.shape(x)[0]/2), label=\"Re{TF[cos(x*T+ph)]}\",color='g', alpha = 0.5)\n",
    "plt.axvline(x=T, color='r', ls = '--', lw=0.5, alpha=0.9, label = \"Period of the signals\")\n",
    "plt.title('Fourier transform: real part')\n",
    "plt.legend()\n",
    "plt.axhline(y=0, color='k', ls = '--', lw=0.8, alpha=0.6)\n",
    "plt.axvline(x=0, color='k', ls = '--', lw=0.8, alpha=0.6)\n",
    "\n",
    "# Plot Phase\n",
    "plt.subplot(133) \n",
    "plt.plot(x_f,np.imag(TF_cosT)/(np.shape(x)[0]/2)*np.pi, label=\"Im{TF[cos(x)]}\")\n",
    "plt.plot(x_f,np.imag(TF_cosP)/(np.shape(x)[0]/2)*np.pi, label=\"Im{TF[cos(x*T+ph)]}\", color = 'g')\n",
    "plt.title('Fourier transform: imaginary part')\n",
    "plt.axhline(y=0, color='k', ls = '--', lw=0.8, alpha=0.6)\n",
    "plt.axvline(x=0, color='k', ls = '--', lw=0.8, alpha=0.6)\n",
    "plt.axhline(y=np.pi, color='r', ls = '--', lw=0.5, alpha=0.9)\n",
    "plt.axhline(y=-np.pi, color='r', ls = '--', lw=0.5, alpha=0.9)\n",
    "plt.axhline(y=np.max(np.imag(TF_cosP)/(np.shape(x)[0]/2)*np.pi), color='g', ls = '--', lw=0.5, alpha=0.9)\n",
    "\n",
    "#Print information:\n",
    "print('---------------')\n",
    "print('Min(Re{FT[signal]}):', np.min(np.real(TF_cosP)/(np.shape(x)[0]/2)))\n",
    "print('Max(Re{FT[signal]}):', np.max(np.real(TF_cosP)/(np.shape(x)[0]/2)))       \n",
    "print('Max(Im{FT[signal]}):', np.max(np.imag(TF_cosP)/(np.shape(x)[0]/2)*np.pi))\n",
    "\n",
    "print('Ph:', Ph*2.)\n",
    "\n",
    "plt.legend()\n",
    "plt.show()"
   ]
  },
  {
   "cell_type": "markdown",
   "metadata": {},
   "source": [
    "A few conclusions from here:\n",
    "- Cosine wave gives the origin for the zero phase (blue)\n",
    "- Real part of the FT, normalized to sum(signal): (i) peak centered at the period; (ii) height inside [-1,1] linked to phase shift (cosine = 0, sine = -1).\n",
    "- Imaginary part of the FT: (i) sign gives whether [0,pi] or [-pi,0], that is to say if Ph is negative or positive; (ii) intensity gives the phase shift (cos = 0, sin = pi)"
   ]
  },
  {
   "cell_type": "markdown",
   "metadata": {},
   "source": [
    "### 1.3 Case of a Dirac-delta (impulse) function"
   ]
  },
  {
   "cell_type": "code",
   "execution_count": null,
   "metadata": {
    "scrolled": true
   },
   "outputs": [],
   "source": [
    "plt.figure(figsize=(6*3, 2*3), constrained_layout=False)\n",
    "\n",
    "#Parameters for the sine waves\n",
    "A = 1.  #Amplitude >0.\n",
    "T  = 3. #Period [1-np.shape(x)]\n",
    "Ph = 0.5  #Phase [-pi:pi] i.e. facteur [-1,1]\n",
    "\n",
    "#Creating the cosine wave at a given phase, amplitude and period\n",
    "cosP = A*np.cos(x*T+Ph*np.pi) \n",
    "#Creating a delta function\n",
    "delta = signal.unit_impulse(np.shape(x),'mid')\n",
    "delta_shift = signal.unit_impulse(np.shape(x),100)\n",
    "\n",
    "plt.subplot(131)\n",
    "plt.plot(x, cosP, label=\"cos(x*T+ph)\")\n",
    "plt.plot(x, delta, label=\"Delta function centered\")\n",
    "plt.plot(x, delta_shift, color='g', label=\"Delta function shifted\")\n",
    "plt.title('Signals')\n",
    "plt.legend()\n",
    "plt.axhline(y=0, color='k', ls = '--', lw=0.8, alpha=0.6)\n",
    "plt.axvline(x=0, color='k', ls = '--', lw=0.8, alpha=0.6)\n",
    "\n",
    "\n",
    "# Fourier transform of the cos waves: \n",
    "TF_cosP =np.fft.fftshift(np.fft.fft(cosP))\n",
    "TF_delta =np.fft.fftshift(np.fft.fft(delta))\n",
    "TF_delta_shift =np.fft.fftshift(np.fft.fft(delta_shift))\n",
    "\n",
    "# Plot Amplitude (normalized)\n",
    "plt.subplot(132)\n",
    "plt.plot(x_f,np.real(TF_cosT)/(np.shape(x)[0]/2), label=\"Re{TF[cos(x*T+ph)]}\")\n",
    "plt.plot(x_f,np.real(TF_delta)/(np.shape(x)[0]/2), label=\"Re{TF[delta_centered(x)]}\")\n",
    "plt.plot(x_f,np.real(TF_delta_shift)/(np.shape(x)[0]/2), label=\"Re{TF[delta_shift(x)]}\",color='g', alpha = 0.5)\n",
    "plt.title('Fourier transform: real part')\n",
    "plt.legend()\n",
    "plt.axhline(y=0, color='k', ls = '--', lw=0.8, alpha=0.6)\n",
    "plt.axvline(x=0, color='k', ls = '--', lw=0.8, alpha=0.6)\n",
    "\n",
    "# Plot Phase\n",
    "plt.subplot(133) \n",
    "plt.plot(x_f,np.imag(TF_cosP)/(np.shape(x)[0]/2)*np.pi, label=\"Im{TF[cos(x*T+ph)]}\")\n",
    "plt.plot(x_f,np.imag(TF_delta)/(np.shape(x)[0]/2), label=\"Re{TF[delta_centered(x)]}\")\n",
    "plt.plot(x_f,np.imag(TF_delta_shift)/(np.shape(x)[0]/2), label=\"Re{TF[delta_shift(x)]}\",color='g', alpha = 0.5)\n",
    "plt.title('Fourier transform: imaginary part')\n",
    "plt.axhline(y=0, color='k', ls = '--', lw=0.8, alpha=0.6)\n",
    "plt.axvline(x=0, color='k', ls = '--', lw=0.8, alpha=0.6)\n",
    "plt.axhline(y=np.pi, color='r', ls = '--', lw=0.5, alpha=0.9)\n",
    "plt.axhline(y=-np.pi, color='r', ls = '--', lw=0.5, alpha=0.9)\n",
    "plt.legend()\n",
    "\n",
    "plt.show()"
   ]
  },
  {
   "cell_type": "code",
   "execution_count": null,
   "metadata": {},
   "outputs": [],
   "source": [
    "plt.figure(figsize=(10*2, 3*2), constrained_layout=False)\n",
    "\n",
    "plt.subplot(131)\n",
    "plt.plot(x, cosP, label=\"cos(x*T+ph)\")\n",
    "plt.plot(x, delta, label=\"Delta function centered\")\n",
    "plt.plot(x, delta_shift, color='g', label=\"Delta function shifted\")\n",
    "plt.title('Signals')\n",
    "plt.legend()\n",
    "plt.axhline(y=0, color='k', ls = '--', lw=0.8, alpha=0.6)\n",
    "plt.axvline(x=0, color='k', ls = '--', lw=0.8, alpha=0.6)\n",
    "\n",
    "# Plot Amplitude (normalized)\n",
    "plt.subplot(132)\n",
    "plt.plot(x_f,np.abs(TF_cosT)/(np.shape(x)[0]/2), label=\"Abs{TF[cos(x*T+ph)]}\")\n",
    "plt.plot(x_f,np.abs(TF_delta)/(np.shape(x)[0]/2), label=\"Abs{TF[delta_centered(x)]}\")\n",
    "plt.plot(x_f,np.abs(TF_delta_shift)/(np.shape(x)[0]/2), label=\"Abs{TF[delta_shift(x)]}\",color='g', alpha = 0.5)\n",
    "plt.title('Fourier transform: amplitude')\n",
    "plt.legend()\n",
    "plt.axhline(y=0, color='k', ls = '--', lw=0.8, alpha=0.6)\n",
    "plt.axvline(x=0, color='k', ls = '--', lw=0.8, alpha=0.6)\n",
    "\n",
    "\n",
    "plt.show()"
   ]
  },
  {
   "cell_type": "markdown",
   "metadata": {},
   "source": [
    "### 1.4 Case of sum of sine waves"
   ]
  },
  {
   "cell_type": "code",
   "execution_count": null,
   "metadata": {},
   "outputs": [],
   "source": [
    "plt.figure(figsize=(10*2, 3*2), constrained_layout=False)\n",
    "\n",
    "#Modify only the period, not the amplitude, nor the phase shift (useless)\n",
    "T = [3,5,8,12,19]\n",
    "signal = np.sin(x*T[0]) +  np.sin(x*T[1]) + np.sin(x*T[2]) + np.sin(x*T[3]) + np.sin(x*T[4])\n",
    "\n",
    "#Plot input signal\n",
    "plt.subplot(121)\n",
    "plt.plot(x,signal)\n",
    "plt.title('Signal input')\n",
    "plt.axhline(y=0, color='k', ls = '--', lw=0.8, alpha=0.6)\n",
    "plt.axvline(x=0, color='k', ls = '--', lw=0.8, alpha=0.6)\n",
    "\n",
    "#Plot spectrum signal\n",
    "TF_signal =np.fft.fftshift(np.fft.fft(signal))\n",
    "plt.subplot(122)\n",
    "plt.plot(x_f,np.abs(TF_signal)/(np.shape(x)[0]/2), color = 'orange')\n",
    "plt.title('Signal spectrum')\n",
    "plt.axvline(x=T[0], color='r', ls = '--', alpha=0.6)\n",
    "plt.axvline(x=T[1], color='r', ls = '--', alpha=0.6)\n",
    "plt.axvline(x=T[2], color='r', ls = '--', alpha=0.6)\n",
    "plt.axvline(x=T[3], color='r', ls = '--', alpha=0.6)\n",
    "plt.axvline(x=T[4], color='r', ls = '--', alpha=0.6)\n",
    "plt.axhline(y=0, color='k', ls = '--', lw=0.8, alpha=0.6)\n",
    "plt.axvline(x=0, color='k', ls = '--', lw=0.8, alpha=0.6)\n",
    "plt.show()"
   ]
  },
  {
   "cell_type": "markdown",
   "metadata": {},
   "source": [
    "### 1.5 Case of random noise"
   ]
  },
  {
   "cell_type": "code",
   "execution_count": null,
   "metadata": {},
   "outputs": [],
   "source": [
    "plt.figure(figsize=(10*2, 3*2), constrained_layout=False)\n",
    "\n",
    "x = np.arange(-np.pi, np.pi, 0.05)\n",
    "noise_u = np.random.uniform(-1,1,np.shape(x))\n",
    "noise_g = np.random.normal(0,1/(np.sqrt(2)),np.shape(x))\n",
    "TF_nu =np.fft.fftshift(np.fft.fft(noise_u))\n",
    "TF_ng =np.fft.fftshift(np.fft.fft(noise_g))\n",
    "\n",
    "plt.subplot(121)\n",
    "plt.title('Signals: random noise')\n",
    "plt.plot(x,noise_u, label = 'Uniform noise')\n",
    "plt.plot(x,noise_g, label = 'Gaussian noise')\n",
    "plt.legend()\n",
    "plt.axhline(y=0, color='k', ls = '--', lw=0.8, alpha=0.6)\n",
    "plt.axvline(x=0, color='k', ls = '--', lw=0.8, alpha=0.6)\n",
    "\n",
    "plt.subplot(122)\n",
    "plt.title('Spectra: random noise')\n",
    "plt.plot(x_f,np.abs(TF_nu), label = 'Uniform noise')\n",
    "plt.plot(x_f,np.abs(TF_ng), label = 'Gaussian noise')\n",
    "plt.axhline(y=0, color='k', ls = '--', lw=0.8, alpha=0.6)\n",
    "plt.axvline(x=0, color='k', ls = '--', lw=0.8, alpha=0.6)\n",
    "plt.legend()\n",
    "\n",
    "plt.show()"
   ]
  },
  {
   "cell_type": "markdown",
   "metadata": {},
   "source": [
    "### 1.6 Case of signal and random noise"
   ]
  },
  {
   "cell_type": "code",
   "execution_count": null,
   "metadata": {},
   "outputs": [],
   "source": [
    "plt.figure(figsize=(10*2, 3*2), constrained_layout=False)\n",
    "\n",
    "signal_n = signal +  np.random.uniform(-1,1,np.shape(signal)[0])\n",
    "TF_sn =np.fft.fftshift(np.fft.fft(signal_n))\n",
    "\n",
    "plt.subplot(121)\n",
    "plt.title('Signal')\n",
    "plt.plot(x,signal_n, label=\"with noise\")\n",
    "plt.plot(x,signal, label=\"without noise\")\n",
    "plt.axhline(y=0, color='k', ls = '--', lw=0.8, alpha=0.6)\n",
    "plt.axvline(x=0, color='k', ls = '--', lw=0.8, alpha=0.6)\n",
    "plt.legend()\n",
    "\n",
    "plt.subplot(122)\n",
    "plt.title('Spectrum')\n",
    "plt.plot(x_f,np.abs(TF_sn)/(np.shape(x)[0]/2), label=\"with noise\")\n",
    "plt.plot(x_f,np.abs(TF_signal)/(np.shape(x)[0]/2), label=\"without noise\")\n",
    "plt.axhline(y=0, color='k', ls = '--', lw=0.8, alpha=0.6)\n",
    "plt.axvline(x=0, color='k', ls = '--', lw=0.8, alpha=0.6)\n",
    "plt.legend()\n"
   ]
  },
  {
   "cell_type": "markdown",
   "metadata": {},
   "source": [
    "### 1.7 Case of different window functions "
   ]
  },
  {
   "cell_type": "code",
   "execution_count": null,
   "metadata": {
    "scrolled": true
   },
   "outputs": [],
   "source": [
    "from scipy import signal\n",
    "plt.figure(figsize=(10*2, 3*2), constrained_layout=False)\n",
    "\n",
    "apperture_dim = 200\n",
    "aperture_sz = 50\n",
    "signal_x = np.arange(apperture_dim)-apperture_dim//2 #abcisse centree en 0\n",
    "spectr_x = np.arange(0, np.shape(signal_x)[0], 1) -  np.shape(signal_x)[0]/2\n",
    "\n",
    "#Gaussian profile\n",
    "mu = 0\n",
    "sigma = np.sqrt(aperture_sz/2.)**2.\n",
    "gauss = stats.norm.pdf(signal_x, mu, sigma)\n",
    "gauss_y = gauss/np.max(gauss)\n",
    "#Heavyside profile\n",
    "door_y = (np.abs(signal_x) < aperture_sz/2.) #signal fonction porte\n",
    "#Triangle profile\n",
    "t = np.linspace(0, 1, aperture_sz)\n",
    "tx = (signal.sawtooth(2*np.pi*t))[0:aperture_sz//2]+1\n",
    "rev_tx = tx[::-1]\n",
    "triangle_y = np.zeros(apperture_dim)\n",
    "triangle_y[apperture_dim//2-aperture_sz//2:apperture_dim//2]=tx\n",
    "triangle_y[apperture_dim//2:apperture_dim//2+aperture_sz//2]=rev_tx\n",
    "\n",
    "plt.subplot(121)\n",
    "plt.plot(signal_x, door_y, label = 'Heavyside profile')\n",
    "plt.plot(signal_x, gauss_y, label = 'Gaussian profile')\n",
    "plt.plot(signal_x, triangle_y, label = 'Triangle profile')\n",
    "plt.title('Signals: appertures')\n",
    "plt.legend()\n",
    "\n",
    "\n",
    "#Fourier transform\n",
    "TF_door_y = np.fft.fftshift(np.fft.fft(door_y))\n",
    "TF_gauss_y = np.fft.fftshift(np.fft.fft(gauss_y))\n",
    "TF_triangle_y = np.fft.fftshift(np.fft.fft(triangle_y))\n",
    "\n",
    "plt.subplot(122)\n",
    "plt.plot(spectr_x,np.abs(TF_door_y)/(np.shape(signal_x)[0]/2), label = 'Heavyside profile')\n",
    "plt.plot(spectr_x,np.abs(TF_gauss_y)/(np.shape(signal_x)[0]/2), label = 'Gaussian profile')\n",
    "plt.plot(spectr_x,np.abs(TF_triangle_y)/(np.shape(signal_x)[0]/2), label = 'Triangle profile')\n",
    "plt.title('Fourier transform: amplitude')\n",
    "\n",
    "plt.legend()\n",
    "\n",
    "plt.show()\n"
   ]
  },
  {
   "cell_type": "markdown",
   "metadata": {},
   "source": [
    "### What's with the Gaussian ?"
   ]
  },
  {
   "cell_type": "code",
   "execution_count": null,
   "metadata": {},
   "outputs": [],
   "source": [
    "N = 128\n",
    "x = np.arange(-5, 5, 10./(2 * N))\n",
    "y = np.exp(-x * x)\n",
    "y_fft = np.fft.fftshift(np.abs(np.fft.fft(y))) / np.sqrt(len(y))\n",
    "plt.plot(x,y, label=\"Signal\")\n",
    "plt.plot(x,y_fft, label=\"FFT of signal\")\n",
    "plt.legend()\n",
    "plt.show()\n"
   ]
  },
  {
   "cell_type": "code",
   "execution_count": null,
   "metadata": {},
   "outputs": [],
   "source": [
    "N = 128\n",
    "x = np.arange(-2, 2, 10./(2 * N))\n",
    "y = np.exp(-x * x)\n",
    "y_fft = np.fft.fftshift(np.abs(np.fft.fft(y))) / np.sqrt(len(y))\n",
    "plt.plot(x,y, label=\"Signal\")\n",
    "plt.plot(x,y_fft, label=\"FFT of signal\")\n",
    "plt.legend()\n",
    "plt.show()"
   ]
  },
  {
   "cell_type": "code",
   "execution_count": null,
   "metadata": {},
   "outputs": [],
   "source": [
    "N = 128\n",
    "x = np.arange(-10, 10, 10./(2 * N))\n",
    "y = np.exp(-x * x)\n",
    "y_fft = np.fft.fftshift(np.abs(np.fft.fft(y))) / np.sqrt(len(y))\n",
    "plt.plot(x,y, label=\"Signal\")\n",
    "plt.plot(x,y_fft, label=\"FFT of signal\")\n",
    "plt.legend()\n",
    "plt.show()"
   ]
  },
  {
   "cell_type": "markdown",
   "metadata": {},
   "source": [
    "Yes, it's not comparable ! ;-)\n"
   ]
  },
  {
   "cell_type": "code",
   "execution_count": null,
   "metadata": {},
   "outputs": [],
   "source": []
  }
 ],
 "metadata": {
  "kernelspec": {
   "display_name": "Python 3",
   "language": "python",
   "name": "python3"
  },
  "language_info": {
   "codemirror_mode": {
    "name": "ipython",
    "version": 3
   },
   "file_extension": ".py",
   "mimetype": "text/x-python",
   "name": "python",
   "nbconvert_exporter": "python",
   "pygments_lexer": "ipython3",
   "version": "3.8.5"
  }
 },
 "nbformat": 4,
 "nbformat_minor": 4
}
