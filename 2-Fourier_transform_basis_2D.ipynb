{
 "cells": [
  {
   "cell_type": "code",
   "execution_count": null,
   "metadata": {},
   "outputs": [],
   "source": [
    "import numpy as np\n",
    "from scipy import signal\n",
    "import scipy.stats as stats\n",
    "import matplotlib.pyplot as plt\n",
    "from matplotlib.colors import LogNorm\n",
    "import matplotlib.gridspec as gridspec \n",
    "from mpl_toolkits.axes_grid1 import make_axes_locatable"
   ]
  },
  {
   "cell_type": "markdown",
   "metadata": {},
   "source": [
    "# Two dimension FFT"
   ]
  },
  {
   "cell_type": "markdown",
   "metadata": {},
   "source": [
    "## 1. Sine waves, 2D "
   ]
  },
  {
   "cell_type": "code",
   "execution_count": null,
   "metadata": {},
   "outputs": [],
   "source": [
    "fig = plt.figure(1, figsize=(15,9))\n",
    "gs = gridspec.GridSpec(2,3,height_ratios=[1,1], width_ratios=[1,1,1])\n",
    "gs.update(left=0.01, right=0.95, bottom=0.02, top=0.75, wspace=0.3, hspace=0.30)\n",
    "\n",
    "\n",
    "# Making image of sine waves / fringes\n",
    "Nframe = 512\n",
    "frqcy = 5\n",
    "x = np.arange(0, Nframe)\n",
    "cosT = np.cos(x/frqcy) \n",
    "image_sine = np.zeros((Nframe,Nframe))\n",
    "for i in range(0,Nframe-1):\n",
    "        image_sine[:,i] = cosT\n",
    "\n",
    "ax = plt.subplot(gs[0,0]) \n",
    "plt.title('2D sine fringes')\n",
    "im = ax.imshow(image_sine, cmap='viridis', origin='lower',interpolation='nearest')\n",
    "divider = make_axes_locatable(ax)\n",
    "cax = divider.append_axes(\"right\", size=\"5%\", pad=0.05)\n",
    "plt.colorbar(im, cax=cax)\n",
    "\n",
    "# 2D Fourier transform\n",
    "ft_image_sine = np.fft.fftshift(np.fft.fft2(image_sine))\n",
    "\n",
    "#Amplitude (power 0.1)\n",
    "ampli_image_sine = np.abs(ft_image_sine)/np.sum(image_sine)\n",
    "ax = plt.subplot(gs[0,1]) \n",
    "im = ax.imshow((ampli_image_sine)**0.1, cmap='viridis', origin='lower',interpolation='nearest')\n",
    "plt.title('Fourier transform: Amplitude')\n",
    "divider = make_axes_locatable(ax)\n",
    "cax = divider.append_axes(\"right\", size=\"5%\", pad=0.05)\n",
    "plt.colorbar(im, cax=cax)\n",
    "\n",
    "#Phase (between 0 and !pi)\n",
    "phase_image_sine = np.angle(ft_image_sine)\n",
    "ax = plt.subplot(gs[0,2]) \n",
    "im = ax.imshow(phase_image_sine, cmap='viridis', origin='lower',interpolation='nearest')\n",
    "plt.title('Fourier transform: Phase')\n",
    "divider = make_axes_locatable(ax)\n",
    "cax = divider.append_axes(\"right\", size=\"5%\", pad=0.05)\n",
    "plt.colorbar(im, cax=cax)\n",
    "\n",
    "plt.show()"
   ]
  },
  {
   "cell_type": "markdown",
   "metadata": {},
   "source": [
    "## 2. Simple appertures\n",
    "*Because the magic of optics:*\n",
    "In the far field approximation (valid in astronomy, stars are ultra far away), the Fraunhofer approximation is valid. The image of a point source (unresoved source, e.g. a star) is the Fourier transform of the telescope apperture. In other words **the telescope is a spatial filter** (low pass filter) and the image is the diffraction pattern due to the point source through the entrance pupil. \n",
    "\n",
    "Next notebooks will detail more the notions of imaging !"
   ]
  },
  {
   "cell_type": "markdown",
   "metadata": {},
   "source": [
    "### 1.1 Create a circular apperture"
   ]
  },
  {
   "cell_type": "code",
   "execution_count": null,
   "metadata": {},
   "outputs": [],
   "source": [
    "#Function to make a circular apperture of given radius in a square frame\n",
    "def mk_pupilc(radius,Nframe):\n",
    "    P = np.zeros((Nframe,Nframe))#,dtype=complex)\n",
    "    for k in range(Nframe):\n",
    "            for m in range(Nframe):\n",
    "                if pow((k-Nframe/2)*(k-Nframe/2)+(m-Nframe/2)*(m-Nframe/2),0.5) < radius:\n",
    "                    P[k,m] = 1.0\n",
    "    return P"
   ]
  },
  {
   "cell_type": "code",
   "execution_count": null,
   "metadata": {},
   "outputs": [],
   "source": [
    "fig = plt.figure(1, figsize=(15,9))\n",
    "gs = gridspec.GridSpec(2,3,height_ratios=[1,1], width_ratios=[1,1,1])\n",
    "gs.update(left=0.01, right=0.95, bottom=0.02, top=0.75, wspace=0.3, hspace=0.30)\n",
    "\n",
    "# Making apperture\n",
    "Nframe = 512\n",
    "Radius = 20\n",
    "circular_app = mk_pupilc(Radius,Nframe)\n",
    "circular_app_c = circular_app+1j*(circular_app*0.)\n",
    "ax = plt.subplot(gs[0,0]) \n",
    "plt.title('Circular pupil')\n",
    "im = ax.imshow(circular_app, cmap='viridis', origin='lower',interpolation='nearest')\n",
    "divider = make_axes_locatable(ax)\n",
    "cax = divider.append_axes(\"right\", size=\"5%\", pad=0.05)\n",
    "plt.colorbar(im, cax=cax)\n",
    "\n",
    "# 2D Fourier transform\n",
    "ft_circular_app = np.fft.fftshift(np.fft.fft2(circular_app))\n",
    "\n",
    "#Amplitude (power 0.1)\n",
    "ampli_circular_app = np.abs(ft_circular_app)/np.sum(circular_app)\n",
    "ax = plt.subplot(gs[0,1]) \n",
    "im = ax.imshow((ampli_circular_app)**0.1, cmap='viridis', origin='lower',interpolation='nearest')\n",
    "plt.title('Fourier transform: Amplitude')\n",
    "divider = make_axes_locatable(ax)\n",
    "cax = divider.append_axes(\"right\", size=\"5%\", pad=0.05)\n",
    "plt.colorbar(im, cax=cax)\n",
    "\n",
    "#Phase (between 0 and !pi)\n",
    "phase_circular_app = np.angle(ft_circular_app)\n",
    "ax = plt.subplot(gs[0,2]) \n",
    "im = ax.imshow(phase_circular_app, cmap='viridis', origin='lower',interpolation='nearest')\n",
    "plt.title('Fourier transform: Phase')\n",
    "divider = make_axes_locatable(ax)\n",
    "cax = divider.append_axes(\"right\", size=\"5%\", pad=0.05)\n",
    "plt.colorbar(im, cax=cax)\n",
    "\n",
    "plt.show()"
   ]
  },
  {
   "cell_type": "markdown",
   "metadata": {},
   "source": [
    "### 1.2 Create a square / rectangular apperture"
   ]
  },
  {
   "cell_type": "code",
   "execution_count": null,
   "metadata": {},
   "outputs": [],
   "source": [
    "fig = plt.figure(1, figsize=(15,9))\n",
    "gs = gridspec.GridSpec(2,3,height_ratios=[1,1], width_ratios=[1,1,1])\n",
    "gs.update(left=0.01, right=0.95, bottom=0.02, top=0.75, wspace=0.3, hspace=0.30)\n",
    "\n",
    "# Making apperture\n",
    "Nframe = 512\n",
    "dim_x = 70\n",
    "dim_y = 70\n",
    "rect_apperture = np.zeros((Nframe, Nframe))\n",
    "rect_apperture[Nframe//2-dim_x//2:Nframe//2+dim_x//2, Nframe//2-dim_y//2:Nframe//2+dim_y//2] = 1\n",
    "ax = plt.subplot(gs[0,0]) \n",
    "plt.title('Rectangular pupil')\n",
    "im = ax.imshow(rect_apperture, cmap='viridis', origin='lower',interpolation='nearest')\n",
    "divider = make_axes_locatable(ax)\n",
    "cax = divider.append_axes(\"right\", size=\"5%\", pad=0.05)\n",
    "plt.colorbar(im, cax=cax)\n",
    "\n",
    "# 2D Fourier transform\n",
    "ft_rect_apperture = np.fft.fftshift(np.fft.fft2(rect_apperture))\n",
    "\n",
    "#Amplitude (log scale)\n",
    "ampli_rect_apperture = np.abs(ft_rect_apperture)/np.sum(rect_apperture)\n",
    "ax = plt.subplot(gs[0,1]) \n",
    "im = ax.imshow((ampli_rect_apperture)**0.2, cmap='viridis', origin='lower',interpolation='nearest')\n",
    "plt.title('Fourier transform: Amplitude')\n",
    "divider = make_axes_locatable(ax)\n",
    "cax = divider.append_axes(\"right\", size=\"5%\", pad=0.05)\n",
    "plt.colorbar(im, cax=cax)\n",
    "\n",
    "#Phase (between 0 and !pi)\n",
    "phase_rect_apperture = np.angle(ft_rect_apperture)\n",
    "ax = plt.subplot(gs[0,2]) \n",
    "im = ax.imshow(phase_rect_apperture, cmap='viridis', origin='lower',interpolation='nearest')\n",
    "plt.title('Fourier transform: Phase')\n",
    "divider = make_axes_locatable(ax)\n",
    "cax = divider.append_axes(\"right\", size=\"5%\", pad=0.05)\n",
    "plt.colorbar(im, cax=cax)\n",
    "\n",
    "plt.show()"
   ]
  },
  {
   "cell_type": "markdown",
   "metadata": {},
   "source": [
    "### 1.3 Create a Gaussian apperture"
   ]
  },
  {
   "cell_type": "code",
   "execution_count": null,
   "metadata": {},
   "outputs": [],
   "source": [
    "fig = plt.figure(1, figsize=(15,9))\n",
    "gs = gridspec.GridSpec(2,3,height_ratios=[1,1], width_ratios=[1,1,1])\n",
    "gs.update(left=0.01, right=0.95, bottom=0.02, top=0.75, wspace=0.3, hspace=0.30)\n",
    "\n",
    "# Making apperture\n",
    "Nframe = 512\n",
    "fwhm = 0.01\n",
    "x, y = np.mgrid[-1:1:.01, -1:1:.01]\n",
    "pos = np.dstack((x, y))\n",
    "rv = stats.multivariate_normal([0, 0],[fwhm,fwhm]) #centered, variance 0.1\n",
    "prof_gauss = rv.pdf(pos)\n",
    "sz_prof = np.shape(prof_gauss)[0]\n",
    "gauss_app = np.zeros((Nframe,Nframe))\n",
    "gauss_app[Nframe//2-sz_prof//2:Nframe//2+sz_prof//2,Nframe//2-sz_prof//2:Nframe//2+sz_prof//2] = prof_gauss\n",
    "ax = plt.subplot(gs[0,0]) \n",
    "plt.title('Gaussian pupil')\n",
    "im = ax.imshow(gauss_app, cmap='viridis', origin='lower',interpolation='nearest')\n",
    "divider = make_axes_locatable(ax)\n",
    "cax = divider.append_axes(\"right\", size=\"5%\", pad=0.05)\n",
    "plt.colorbar(im, cax=cax)\n",
    "\n",
    "# 2D Fourier transform\n",
    "ft_gauss_app = np.fft.fftshift(np.fft.fft2(gauss_app))\n",
    "\n",
    "#Amplitude (power 0.1)\n",
    "ampli_gauss_app = np.abs(ft_gauss_app)/np.sum(gauss_app)\n",
    "ax = plt.subplot(gs[0,1]) \n",
    "im = ax.imshow((ampli_gauss_app)**0.1, cmap='viridis', origin='lower',interpolation='nearest')\n",
    "plt.title('Fourier transform: Amplitude')\n",
    "divider = make_axes_locatable(ax)\n",
    "cax = divider.append_axes(\"right\", size=\"5%\", pad=0.05)\n",
    "plt.colorbar(im, cax=cax)\n",
    "\n",
    "#Phase (between 0 and !pi)\n",
    "phase_gauss_app = np.angle(ft_gauss_app)\n",
    "ax = plt.subplot(gs[0,2]) \n",
    "im = ax.imshow(phase_gauss_app, cmap='viridis', origin='lower',interpolation='nearest')\n",
    "plt.title('Fourier transform: Phase')\n",
    "divider = make_axes_locatable(ax)\n",
    "cax = divider.append_axes(\"right\", size=\"5%\", pad=0.05)\n",
    "plt.colorbar(im, cax=cax)\n",
    "\n",
    "plt.show()"
   ]
  },
  {
   "cell_type": "markdown",
   "metadata": {},
   "source": [
    "### 1.4 Create your own weird apperture"
   ]
  },
  {
   "cell_type": "code",
   "execution_count": null,
   "metadata": {},
   "outputs": [],
   "source": [
    "import cv2\n",
    "fig = plt.figure(1, figsize=(15,9))\n",
    "gs = gridspec.GridSpec(2,3,height_ratios=[1,1], width_ratios=[1,1,1])\n",
    "gs.update(left=0.01, right=0.95, bottom=0.02, top=0.75, wspace=0.3, hspace=0.30)\n",
    "\n",
    "# Making apperture\n",
    "Nframe = 512\n",
    "weirdo = cv2.imread(\"./penguin.png\", 0)\n",
    "sz_prof = np.shape(weirdo)[0]\n",
    "apperture = np.zeros((Nframe,Nframe))\n",
    "apperture[Nframe//2-sz_prof//2:Nframe//2+sz_prof//2,Nframe//2-sz_prof//2:Nframe//2+sz_prof//2] = weirdo\n",
    "ax = plt.subplot(gs[0,0]) \n",
    "plt.title('Weird pupil')\n",
    "im = ax.imshow(apperture, cmap='viridis', origin='lower',interpolation='nearest')\n",
    "divider = make_axes_locatable(ax)\n",
    "cax = divider.append_axes(\"right\", size=\"5%\", pad=0.05)\n",
    "plt.colorbar(im, cax=cax)\n",
    "\n",
    "# 2D Fourier transform\n",
    "ft_apperture = np.fft.fftshift(np.fft.fft2(apperture))\n",
    "\n",
    "#Amplitude (power 0.1)\n",
    "ampli_apperture = np.abs(ft_apperture)/np.sum(apperture)\n",
    "ax = plt.subplot(gs[0,1]) \n",
    "im = ax.imshow((ampli_apperture)**0.1, cmap='viridis', origin='lower',interpolation='nearest')\n",
    "plt.title('Fourier transform: Amplitude')\n",
    "divider = make_axes_locatable(ax)\n",
    "cax = divider.append_axes(\"right\", size=\"5%\", pad=0.05)\n",
    "plt.colorbar(im, cax=cax)\n",
    "\n",
    "#Phase (between 0 and !pi)\n",
    "phase_apperture = np.angle(ft_apperture)\n",
    "ax = plt.subplot(gs[0,2]) \n",
    "im = ax.imshow(phase_apperture, cmap='viridis', origin='lower',interpolation='nearest')\n",
    "plt.title('Fourier transform: Phase')\n",
    "divider = make_axes_locatable(ax)\n",
    "cax = divider.append_axes(\"right\", size=\"5%\", pad=0.05)\n",
    "plt.colorbar(im, cax=cax)\n",
    "\n",
    "plt.show()"
   ]
  },
  {
   "cell_type": "markdown",
   "metadata": {},
   "source": [
    "### 1.5 Fizeau interferometer"
   ]
  },
  {
   "cell_type": "code",
   "execution_count": null,
   "metadata": {},
   "outputs": [],
   "source": []
  }
 ],
 "metadata": {
  "kernelspec": {
   "display_name": "Python 3",
   "language": "python",
   "name": "python3"
  },
  "language_info": {
   "codemirror_mode": {
    "name": "ipython",
    "version": 3
   },
   "file_extension": ".py",
   "mimetype": "text/x-python",
   "name": "python",
   "nbconvert_exporter": "python",
   "pygments_lexer": "ipython3",
   "version": "3.8.5"
  }
 },
 "nbformat": 4,
 "nbformat_minor": 4
}
